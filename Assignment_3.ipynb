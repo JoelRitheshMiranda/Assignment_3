{
 "cells": [
  {
   "cell_type": "code",
   "execution_count": 1,
   "metadata": {},
   "outputs": [],
   "source": [
    "# Task 1:"
   ]
  },
  {
   "cell_type": "code",
   "execution_count": 2,
   "metadata": {},
   "outputs": [
    {
     "name": "stdout",
     "output_type": "stream",
     "text": [
      "Error: Division by Zero\n"
     ]
    }
   ],
   "source": [
    "# 1. Write a function to compute 5/0 and use try/except to catch the exceptions.\n",
    "\n",
    "def Divide(x,y):\n",
    "    try:\n",
    "        result = x / y\n",
    "        print(\"Result: \", result)\n",
    "    except:\n",
    "        print(\"Error: Division by Zero\")\n",
    "    \n",
    "Divide(5,0)"
   ]
  },
  {
   "cell_type": "code",
   "execution_count": 3,
   "metadata": {},
   "outputs": [
    {
     "name": "stdout",
     "output_type": "stream",
     "text": [
      "Americans Play Baseball\n",
      "Americans Play Cricket\n",
      "Americans Watch Baseball\n",
      "Americans Watch Cricket\n",
      "Indians Play Baseball\n",
      "Indians Play Cricket\n",
      "Indians Watch Baseball\n",
      "Indians Watch Cricket\n"
     ]
    }
   ],
   "source": [
    "# 2. Implement a Python program to generate all sentences where subject is in [\"Americans\", \"Indians\"] and \n",
    "#    verb is in [\"Play\", \"watch\"] and the object is in [\"Baseball\",\"cricket\"].\n",
    "\n",
    "#    Hint: Subject,Verb and Object should be declared in the program as shown below.\n",
    "\n",
    "#    subjects=[\"Americans \",\"Indians\"]\n",
    "#    verbs=[\"play\",\"watch\"]\n",
    "#    objects=[\"Baseball\",\"Cricket\"]\n",
    "\n",
    "#    Output should come as below:\n",
    "\n",
    "#    Americans play Baseball.\n",
    "#    Americans play Cricket.\n",
    "#    Americans watch Baseball.\n",
    "#    Americans watch Cricket.\n",
    "#    Indians play Baseball.\n",
    "#    Indians play Cricket.\n",
    "#    Indians watch Baseball.\n",
    "#    Indians watch Cricket.\n",
    "\n",
    "subjects = [\"Americans\", \"Indians\"]\n",
    "verbs = [\"Play\", \"Watch\"]\n",
    "objects = [\"Baseball\",\"Cricket\"]\n",
    "     \n",
    "lst = [\" \".join([s, v, o]) for s in subjects for v in verbs for o in objects]\n",
    "for sentence in lst:\n",
    "    print(sentence)"
   ]
  },
  {
   "cell_type": "code",
   "execution_count": 4,
   "metadata": {},
   "outputs": [],
   "source": [
    "# Task 2:"
   ]
  },
  {
   "cell_type": "code",
   "execution_count": 5,
   "metadata": {},
   "outputs": [
    {
     "name": "stdout",
     "output_type": "stream",
     "text": [
      "For v = [1, 2, 3, 4, 5] N = 5 increasing = True\n",
      "[[  1   1   1   1   1]\n",
      " [  1   2   4   8  16]\n",
      " [  1   3   9  27  81]\n",
      " [  1   4  16  64 256]\n",
      " [  1   5  25 125 625]]\n",
      "------------------------------------------------------------\n",
      "For v = [1, 2, 3, 4, 5] N = 5 increasing = False\n",
      "[[  1   1   1   1   1]\n",
      " [ 16   8   4   2   1]\n",
      " [ 81  27   9   3   1]\n",
      " [256  64  16   4   1]\n",
      " [625 125  25   5   1]]\n",
      "------------------------------------------------------------\n",
      "For v = [1, 2, 3, 4, 5] N = 6 increasing = True\n",
      "[[   1    1    1    1    1    1]\n",
      " [   1    2    4    8   16   32]\n",
      " [   1    3    9   27   81  243]\n",
      " [   1    4   16   64  256 1024]\n",
      " [   1    5   25  125  625 3125]]\n",
      "------------------------------------------------------------\n",
      "For v = [1, 2, 3, 4, 5] N = 6 increasing = False\n",
      "[[   1    1    1    1    1    1]\n",
      " [  32   16    8    4    2    1]\n",
      " [ 243   81   27    9    3    1]\n",
      " [1024  256   64   16    4    1]\n",
      " [3125  625  125   25    5    1]]\n"
     ]
    }
   ],
   "source": [
    "# 1. Write a function so that the columns of the output matrix are powers of the input vector.\n",
    "#    The order of the powers is determined by the increasing boolean argument. Specifically, when\n",
    "#    increasing is False, the i-th output column is the input vector raised element-wise to the power\n",
    "#    of N - i - 1.\n",
    "\n",
    "#    HINT: Such a matrix with a geometric progression in each row is named for Alexandre-\n",
    "#    Theophile Vandermonde.\n",
    "\n",
    "import numpy as np\n",
    "\n",
    "def Vandermonde(vtr, n, increasing):\n",
    "    rng = range(0,n) if increasing else range(n-1,-1,-1)\n",
    "    a = np.mat([[i**p for i in vtr] for p in rng])\n",
    "    return a.T # Transpose of Matrix\n",
    "\n",
    "vtr = [1, 2, 3, 4, 5]\n",
    "\n",
    "print(\"For v =\", vtr, \"N = 5 increasing = True\")\n",
    "print(Vandermonde(vtr, 5, True))\n",
    "\n",
    "print(60*\"-\")\n",
    "\n",
    "print(\"For v =\", vtr, \"N = 5 increasing = False\")\n",
    "print(Vandermonde(vtr, 5, False))\n",
    "\n",
    "print(60*\"-\")\n",
    "\n",
    "print(\"For v =\", vtr, \"N = 6 increasing = True\")\n",
    "print(Vandermonde(vtr, 6, True))\n",
    "\n",
    "print(60*\"-\")\n",
    "\n",
    "print(\"For v =\", vtr, \"N = 6 increasing = False\")\n",
    "print(Vandermonde(vtr, 6, False))"
   ]
  }
 ],
 "metadata": {
  "kernelspec": {
   "display_name": "Python 3",
   "language": "python",
   "name": "python3"
  },
  "language_info": {
   "codemirror_mode": {
    "name": "ipython",
    "version": 3
   },
   "file_extension": ".py",
   "mimetype": "text/x-python",
   "name": "python",
   "nbconvert_exporter": "python",
   "pygments_lexer": "ipython3",
   "version": "3.7.0"
  }
 },
 "nbformat": 4,
 "nbformat_minor": 2
}
